{
 "cells": [
  {
   "cell_type": "code",
   "execution_count": 1,
   "id": "b44f7ee8",
   "metadata": {},
   "outputs": [],
   "source": [
    "import numpy as np\n",
    "import matplotlib.pyplot as plt"
   ]
  },
  {
   "cell_type": "code",
   "execution_count": 24,
   "id": "a6413385",
   "metadata": {},
   "outputs": [],
   "source": [
    "from matplotlib.patches import Patch\n",
    "from matplotlib.lines import Line2D\n",
    "\n",
    "legend_elements=[]\n",
    "for i, col in enumerate(cmap.colors):\n",
    "    legend_elements = [Patch(facecolor=col,label='Cluster '+ str(i))]"
   ]
  },
  {
   "cell_type": "code",
   "execution_count": 30,
   "id": "f8baa43d",
   "metadata": {},
   "outputs": [
    {
     "name": "stderr",
     "output_type": "stream",
     "text": [
      "/var/folders/qq/x0395b0s7gd177lbwbyhq_800000gn/T/ipykernel_5118/3983287056.py:11: MatplotlibDeprecationWarning: The get_cmap function was deprecated in Matplotlib 3.7 and will be removed two minor releases later. Use ``matplotlib.colormaps[name]`` or ``matplotlib.colormaps.get_cmap(obj)`` instead.\n",
      "  cmap = plt.cm.get_cmap('viridis', np.max(cluster_matrix) + 1)\n"
     ]
    },
    {
     "data": {
      "image/png": "[encoded data removed]",
      "text/plain": [
       "<Figure size 432x288 with 1 Axes>"
      ]
     },
     "metadata": {
      "needs_background": "light"
     },
     "output_type": "display_data"
    }
   ],
   "source": [
    "import numpy as np\n",
    "import matplotlib.pyplot as plt\n",
    "\n",
    "# Dati di esempio: matrice di cluster e griglia\n",
    "cluster_matrix = np.array([[0, 1, 1],\n",
    "                           [2, 2, 3],\n",
    "                           [2, 0, 0]])\n",
    "griglia = np.arange(cluster_matrix.size).reshape(cluster_matrix.shape)\n",
    "\n",
    "# Creare una mappa dei colori per rappresentare i cluster\n",
    "cmap = plt.cm.get_cmap('viridis', np.max(cluster_matrix) + 1)\n",
    "\n",
    "\n",
    "fig, ax = plt.subplots()\n",
    "\n",
    "# Plot del risultato di clusterizzazione come heatmap\n",
    "ax.imshow(cluster_matrix, cmap=cmap)\n",
    "\n",
    "# Personalizzare l'aspetto del plot\n",
    "#cb = plt.colorbar(ticks=np.arange(np.max(cluster_matrix) + 1))\n",
    "#cb.remove()\n",
    "\n",
    "ax.tick_params(top=False, bottom=False,\n",
    "                    labeltop=False, labelbottom=False)\n",
    "ax.set_title('Risultato di clusterizzazione')\n",
    "\n",
    "# Mostrare il plot\n",
    "plt.show()\n"
   ]
  },
  {
   "cell_type": "code",
   "execution_count": 23,
   "id": "476ea58e",
   "metadata": {},
   "outputs": [
    {
     "data": {
      "text/plain": [
       "array([[0.267004, 0.004874, 0.329415, 1.      ],\n",
       "       [0.190631, 0.407061, 0.556089, 1.      ],\n",
       "       [0.20803 , 0.718701, 0.472873, 1.      ],\n",
       "       [0.993248, 0.906157, 0.143936, 1.      ]])"
      ]
     },
     "execution_count": 23,
     "metadata": {},
     "output_type": "execute_result"
    }
   ],
   "source": [
    "cmap.colors"
   ]
  },
  {
   "cell_type": "code",
   "execution_count": null,
   "id": "82c3c068",
   "metadata": {},
   "outputs": [],
   "source": []
  }
 ],
 "metadata": {
  "kernelspec": {
   "display_name": "Python 3 (ipykernel)",
   "language": "python",
   "name": "python3"
  },
  "language_info": {
   "codemirror_mode": {
    "name": "ipython",
    "version": 3
   },
   "file_extension": ".py",
   "mimetype": "text/x-python",
   "name": "python",
   "nbconvert_exporter": "python",
   "pygments_lexer": "ipython3",
   "version": "3.10.0"
  }
 },
 "nbformat": 4,
 "nbformat_minor": 5
}
